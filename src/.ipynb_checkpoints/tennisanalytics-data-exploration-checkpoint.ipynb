{
 "cells": [
  {
   "cell_type": "code",
   "execution_count": 1,
   "metadata": {},
   "outputs": [],
   "source": [
    "import pandas as pd\n",
    "import logging\n",
    "logging.basicConfig(level=logging.DEBUG)\n"
   ]
  },
  {
   "cell_type": "code",
   "execution_count": 2,
   "metadata": {},
   "outputs": [
    {
     "name": "stderr",
     "output_type": "stream",
     "text": [
      "//anaconda3/lib/python3.7/site-packages/IPython/core/interactiveshell.py:3057: DtypeWarning: Columns (9,11,17,24,28,30) have mixed types. Specify dtype option on import or set low_memory=False.\n",
      "  interactivity=interactivity, compiler=compiler, result=result)\n"
     ]
    }
   ],
   "source": [
    "#read the file\n",
    "matches = pd.read_csv(\"../wta/matches.csv\")\n",
    "\n",
    "#convert the id to an integer\n",
    "matches['loser_id'] = matches['loser_id'].apply( lambda x: int(x))\n",
    "matches['winner_id'] = matches['winner_id'].apply( lambda x: int(x))\n",
    "#here, we are changing all of the N/A loser and winner ages to 0\n",
    "matches['loser_age'] = matches['loser_age'].fillna(0)\n",
    "matches['winner_age'] = matches['winner_age'].fillna(0)\n",
    "#here, we are converting the loser and winner ages to integers\n",
    "matches['loser_age'] = matches['loser_age'].apply( lambda x: int(x))\n",
    "matches['year'] = matches['tourney_date'].apply( lambda x: str(x)[:4])\n",
    "\n"
   ]
  },
  {
   "cell_type": "code",
   "execution_count": 5,
   "metadata": {},
   "outputs": [
    {
     "data": {
      "text/plain": [
       "['best_of',\n",
       " 'draw_size',\n",
       " 'loser_age',\n",
       " 'loser_entry',\n",
       " 'loser_hand',\n",
       " 'loser_ht',\n",
       " 'loser_id',\n",
       " 'loser_ioc',\n",
       " 'loser_name',\n",
       " 'loser_rank',\n",
       " 'loser_rank_points',\n",
       " 'loser_seed',\n",
       " 'match_num',\n",
       " 'minutes',\n",
       " 'round',\n",
       " 'score',\n",
       " 'surface',\n",
       " 'tourney_date',\n",
       " 'tourney_id',\n",
       " 'tourney_level',\n",
       " 'tourney_name',\n",
       " 'winner_age',\n",
       " 'winner_entry',\n",
       " 'winner_hand',\n",
       " 'winner_ht',\n",
       " 'winner_id',\n",
       " 'winner_ioc',\n",
       " 'winner_name',\n",
       " 'winner_rank',\n",
       " 'winner_rank_points',\n",
       " 'winner_seed',\n",
       " 'year',\n",
       " 'Unnamed: 32']"
      ]
     },
     "execution_count": 5,
     "metadata": {},
     "output_type": "execute_result"
    }
   ],
   "source": [
    "list(matches.columns)"
   ]
  },
  {
   "cell_type": "code",
   "execution_count": 11,
   "metadata": {},
   "outputs": [
    {
     "data": {
      "text/html": [
       "<div>\n",
       "<style scoped>\n",
       "    .dataframe tbody tr th:only-of-type {\n",
       "        vertical-align: middle;\n",
       "    }\n",
       "\n",
       "    .dataframe tbody tr th {\n",
       "        vertical-align: top;\n",
       "    }\n",
       "\n",
       "    .dataframe thead th {\n",
       "        text-align: right;\n",
       "    }\n",
       "</style>\n",
       "<table border=\"1\" class=\"dataframe\">\n",
       "  <thead>\n",
       "    <tr style=\"text-align: right;\">\n",
       "      <th></th>\n",
       "      <th>year</th>\n",
       "      <th>best_of</th>\n",
       "      <th>loser_age</th>\n",
       "      <th>winner_age</th>\n",
       "      <th>draw_size</th>\n",
       "      <th>loser_id</th>\n",
       "      <th>loser_ioc</th>\n",
       "      <th>loser_name</th>\n",
       "      <th>loser_rank</th>\n",
       "      <th>winner_id</th>\n",
       "      <th>winner_name</th>\n",
       "      <th>winner_ioc</th>\n",
       "      <th>winner_rank</th>\n",
       "      <th>tourney_id</th>\n",
       "      <th>tourney_name</th>\n",
       "      <th>tourney_date</th>\n",
       "      <th>score</th>\n",
       "    </tr>\n",
       "  </thead>\n",
       "  <tbody>\n",
       "    <tr>\n",
       "      <th>16</th>\n",
       "      <td>2000</td>\n",
       "      <td>3</td>\n",
       "      <td>20</td>\n",
       "      <td>18.308008</td>\n",
       "      <td>128</td>\n",
       "      <td>200034</td>\n",
       "      <td>AUS</td>\n",
       "      <td>Amanda Grahame</td>\n",
       "      <td>261.0</td>\n",
       "      <td>200033</td>\n",
       "      <td>Serena Williams</td>\n",
       "      <td>USA</td>\n",
       "      <td>4.0</td>\n",
       "      <td>2000-W-SL-AUS-01A-2000</td>\n",
       "      <td>Australian Open</td>\n",
       "      <td>20000117</td>\n",
       "      <td>6-4 4-6 6-4</td>\n",
       "    </tr>\n",
       "    <tr>\n",
       "      <th>72</th>\n",
       "      <td>2000</td>\n",
       "      <td>3</td>\n",
       "      <td>26</td>\n",
       "      <td>18.308008</td>\n",
       "      <td>128</td>\n",
       "      <td>200036</td>\n",
       "      <td>AUS</td>\n",
       "      <td>Nicole Pratt</td>\n",
       "      <td>58.0</td>\n",
       "      <td>200033</td>\n",
       "      <td>Serena Williams</td>\n",
       "      <td>USA</td>\n",
       "      <td>4.0</td>\n",
       "      <td>2000-W-SL-AUS-01A-2000</td>\n",
       "      <td>Australian Open</td>\n",
       "      <td>20000117</td>\n",
       "      <td>7-5 6-1</td>\n",
       "    </tr>\n",
       "    <tr>\n",
       "      <th>100</th>\n",
       "      <td>2000</td>\n",
       "      <td>3</td>\n",
       "      <td>27</td>\n",
       "      <td>18.308008</td>\n",
       "      <td>128</td>\n",
       "      <td>200037</td>\n",
       "      <td>BEL</td>\n",
       "      <td>Sabine Appelmans</td>\n",
       "      <td>31.0</td>\n",
       "      <td>200033</td>\n",
       "      <td>Serena Williams</td>\n",
       "      <td>USA</td>\n",
       "      <td>4.0</td>\n",
       "      <td>2000-W-SL-AUS-01A-2000</td>\n",
       "      <td>Australian Open</td>\n",
       "      <td>20000117</td>\n",
       "      <td>6-2 7-6(2)</td>\n",
       "    </tr>\n",
       "    <tr>\n",
       "      <th>114</th>\n",
       "      <td>2000</td>\n",
       "      <td>3</td>\n",
       "      <td>18</td>\n",
       "      <td>24.358658</td>\n",
       "      <td>128</td>\n",
       "      <td>200033</td>\n",
       "      <td>USA</td>\n",
       "      <td>Serena Williams</td>\n",
       "      <td>4.0</td>\n",
       "      <td>200048</td>\n",
       "      <td>Elena Likhovtseva</td>\n",
       "      <td>RUS</td>\n",
       "      <td>18.0</td>\n",
       "      <td>2000-W-SL-AUS-01A-2000</td>\n",
       "      <td>Australian Open</td>\n",
       "      <td>20000117</td>\n",
       "      <td>6-3 6-3</td>\n",
       "    </tr>\n",
       "    <tr>\n",
       "      <th>285</th>\n",
       "      <td>2000</td>\n",
       "      <td>3</td>\n",
       "      <td>25</td>\n",
       "      <td>18.748802</td>\n",
       "      <td>128</td>\n",
       "      <td>200084</td>\n",
       "      <td>SWE</td>\n",
       "      <td>Asa Svensson</td>\n",
       "      <td>38.0</td>\n",
       "      <td>200033</td>\n",
       "      <td>Serena Williams</td>\n",
       "      <td>USA</td>\n",
       "      <td>8.0</td>\n",
       "      <td>2000-W-SL-GBR-01A-2000</td>\n",
       "      <td>Wimbledon</td>\n",
       "      <td>20000626</td>\n",
       "      <td>6-3 6-2</td>\n",
       "    </tr>\n",
       "  </tbody>\n",
       "</table>\n",
       "</div>"
      ],
      "text/plain": [
       "     year  best_of  loser_age  winner_age  draw_size  loser_id loser_ioc  \\\n",
       "16   2000        3         20   18.308008        128    200034       AUS   \n",
       "72   2000        3         26   18.308008        128    200036       AUS   \n",
       "100  2000        3         27   18.308008        128    200037       BEL   \n",
       "114  2000        3         18   24.358658        128    200033       USA   \n",
       "285  2000        3         25   18.748802        128    200084       SWE   \n",
       "\n",
       "           loser_name loser_rank  winner_id        winner_name winner_ioc  \\\n",
       "16     Amanda Grahame      261.0     200033    Serena Williams        USA   \n",
       "72       Nicole Pratt       58.0     200033    Serena Williams        USA   \n",
       "100  Sabine Appelmans       31.0     200033    Serena Williams        USA   \n",
       "114   Serena Williams        4.0     200048  Elena Likhovtseva        RUS   \n",
       "285      Asa Svensson       38.0     200033    Serena Williams        USA   \n",
       "\n",
       "    winner_rank              tourney_id     tourney_name tourney_date  \\\n",
       "16          4.0  2000-W-SL-AUS-01A-2000  Australian Open     20000117   \n",
       "72          4.0  2000-W-SL-AUS-01A-2000  Australian Open     20000117   \n",
       "100         4.0  2000-W-SL-AUS-01A-2000  Australian Open     20000117   \n",
       "114        18.0  2000-W-SL-AUS-01A-2000  Australian Open     20000117   \n",
       "285         8.0  2000-W-SL-GBR-01A-2000        Wimbledon     20000626   \n",
       "\n",
       "           score  \n",
       "16   6-4 4-6 6-4  \n",
       "72       7-5 6-1  \n",
       "100   6-2 7-6(2)  \n",
       "114      6-3 6-3  \n",
       "285      6-3 6-2  "
      ]
     },
     "execution_count": 11,
     "metadata": {},
     "output_type": "execute_result"
    }
   ],
   "source": [
    "cols_of_interest = [ 'year', 'best_of', 'loser_age', 'winner_age', \n",
    "                    'draw_size', 'loser_id','loser_ioc', 'loser_name',\n",
    "                    'loser_rank', 'winner_id', 'winner_name',\n",
    "                    'winner_ioc','winner_rank','tourney_id', \n",
    "                    'tourney_name','tourney_date', 'score']\n",
    "# matches[matches['loser_age'] == 0][cols_of_interest]\n",
    "# matches[matches['tourney_name'] == 'Wimbledon'][cols_of_interest].head()\n",
    "player = 'Serena Williams'\n",
    "# year = '2005'\n",
    "# tourney_name = 'Wimbledon'\n",
    "# matches[ ( matches['winner_name'] == player) ]\n",
    "# matches[ (( matches['winner_name'] == player) |  ( matches['loser_name'] == player) ) \n",
    "#         & ( matches['tourney_name'] == tourney_name) & ( matches ['year'] ==year) ] [cols_of_interest].head()\n",
    "\n",
    "matches[ (( matches['winner_name'] == player) |  ( matches['loser_name'] == player) ) ] [cols_of_interest].head()"
   ]
  },
  {
   "cell_type": "code",
   "execution_count": null,
   "metadata": {},
   "outputs": [],
   "source": [
    "players = pd.read_csv(\"../wta/players.csv\", sep=',', encoding='latin-1')"
   ]
  },
  {
   "cell_type": "code",
   "execution_count": null,
   "metadata": {},
   "outputs": [],
   "source": [
    "players.head()"
   ]
  },
  {
   "cell_type": "code",
   "execution_count": null,
   "metadata": {},
   "outputs": [],
   "source": [
    "qualifying_matches = pd.read_csv(\"../wta/qualifying_matches.csv\")"
   ]
  },
  {
   "cell_type": "code",
   "execution_count": null,
   "metadata": {},
   "outputs": [],
   "source": [
    "qualifying_matches.head()"
   ]
  },
  {
   "cell_type": "code",
   "execution_count": null,
   "metadata": {},
   "outputs": [],
   "source": [
    "rankings = pd.read_csv(\"../wta/rankings.csv\")"
   ]
  },
  {
   "cell_type": "code",
   "execution_count": null,
   "metadata": {},
   "outputs": [],
   "source": [
    "rankings.head()"
   ]
  },
  {
   "cell_type": "code",
   "execution_count": 25,
   "metadata": {},
   "outputs": [],
   "source": [
    "def ifTourneytPlayed(year, tourney):\n",
    "    \n",
    "    print(\"ifTourneyPlayed : Year >>\", year, \" touneyName >\", tourney) \n",
    "    match_arr = (matches[ ( matches['year'] == year) & ( matches['tourney_name'] == tourney)]) \n",
    "    if (len (match_arr) > 0):\n",
    "        print( \"Yes, the tournament >>\", tourney, \" was held in year >\", year)\n",
    "    else:\n",
    "        print( \"Sorry, the tournament >>\", tourney, \" was  NOT held in year >\", year)\n",
    "    \n",
    "\n",
    "    "
   ]
  },
  {
   "cell_type": "code",
   "execution_count": 26,
   "metadata": {},
   "outputs": [],
   "source": [
    "def playerCheck(player, year, tourney):\n",
    "    print(\"\\n Find winner>> Name of first player=\", player1, \"Player 2=\", player2, \" year=\", year, \" tourney=\", tourney)\n",
    "\n",
    "    #check if this tournament was held in that year ?\n",
    "    ifTourneytPlayed(year, tourney)\n",
    "    \n",
    "    #check if player(s) played this tournament\n",
    "    player_arr = matches[ (( matches['winner_name'] == player ) |  ( matches['loser_name'] == player) ) & ( matches['tourney_name'] == tourney) & ( matches ['year'] == year) ]  \n",
    "\n",
    "    if (len (player_arr)>0):\n",
    "        print (\"\\n Yes, the player \", player, \"played the tournament >>\", tourney)\n",
    "    else:\n",
    "        print (\"\\n Sorry, the player\", player, \"did not play the tournament\", tourney)\n",
    "        \n",
    "\n",
    "    "
   ]
  },
  {
   "cell_type": "code",
   "execution_count": null,
   "metadata": {},
   "outputs": [],
   "source": [
    "def findWinner(player1, player2, tourney):\n",
    "    \n",
    "    "
   ]
  },
  {
   "cell_type": "code",
   "execution_count": 39,
   "metadata": {},
   "outputs": [
    {
     "name": "stdout",
     "output_type": "stream",
     "text": [
      "\n",
      " Find winner>> Name of first player= Roger Federer Player 2= Serena Williams  year= 2005  tourney= Wimbledon\n",
      "ifTourneyPlayed : Year >> 2005  touneyName > Wimbledon\n",
      "Yes, the tournament >> Wimbledon  was held in year > 2005\n",
      "\n",
      " Sorry, the player Roger Federer did not play the tournament Wimbledon\n",
      "\n",
      " Find winner>> Name of first player= Roger Federer Player 2= Serena Williams  year= 2005  tourney= Wimbledon\n",
      "ifTourneyPlayed : Year >> 2005  touneyName > Wimbledon\n",
      "Yes, the tournament >> Wimbledon  was held in year > 2005\n",
      "\n",
      " Yes, the player  Serena Williams played the tournament >> Wimbledon\n"
     ]
    }
   ],
   "source": [
    "#objective\n",
    "#To print the winner/loser for each mach\n",
    "\n",
    "#Input  ?\n",
    "#Names of the two players\n",
    "#Year\n",
    "#tournament Name\n",
    "\n",
    "#Example question - in 2012, in wimbledon, Nadal vs Dokovich - who won ?\n",
    "\n",
    "#First: Did both Nadal and \n",
    "\n",
    "# player1 = input(\"Enter the name of Player 1: \")\n",
    "# player2 = input(\"Enter the name of Player 2: \")\n",
    "# year = input(\"Enter the year of the match: \")\n",
    "# tourney = input(\"Enter in the name of the tournament. If you don't know the name of the tournament, type in 0: \")\n",
    "\n",
    "player1= 'Roger Federer'\n",
    "player2 = 'Serena Williams'\n",
    "year = '2005'\n",
    "tourney = 'Wimbledon'\n",
    "playerCheck(player1, year, tourney)\n",
    "playerCheck(player2, year, tourney)\n",
    "\n",
    "\n",
    "\n",
    "# ifTourneytPlayed(year, tourney)   \n",
    "    "
   ]
  },
  {
   "cell_type": "code",
   "execution_count": null,
   "metadata": {},
   "outputs": [],
   "source": []
  }
 ],
 "metadata": {
  "kernelspec": {
   "display_name": "Python 3",
   "language": "python",
   "name": "python3"
  },
  "language_info": {
   "codemirror_mode": {
    "name": "ipython",
    "version": 3
   },
   "file_extension": ".py",
   "mimetype": "text/x-python",
   "name": "python",
   "nbconvert_exporter": "python",
   "pygments_lexer": "ipython3",
   "version": "3.7.3"
  }
 },
 "nbformat": 4,
 "nbformat_minor": 2
}
