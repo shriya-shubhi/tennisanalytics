{
 "cells": [
  {
   "cell_type": "markdown",
   "metadata": {},
   "source": [
    "### This is a program to identify a winner / loser in a tournament in Women's Tennis for all Grand Slams"
   ]
  },
  {
   "cell_type": "markdown",
   "metadata": {},
   "source": [
    "#### Import all the libraries"
   ]
  },
  {
   "cell_type": "code",
   "execution_count": 1,
   "metadata": {},
   "outputs": [],
   "source": [
    "import pandas as pd\n",
    "import logging\n",
    "import sys"
   ]
  },
  {
   "cell_type": "code",
   "execution_count": 12,
   "metadata": {},
   "outputs": [],
   "source": [
    "logger = logging.getLogger()\n",
    "\n",
    "logging.basicConfig(format='%(asctime)s | %(levelname)s : %(message)s',\n",
    "                     level=logging.INFO, stream=sys.stdout)"
   ]
  },
  {
   "cell_type": "markdown",
   "metadata": {},
   "source": [
    "#### Read data from WTA ( Women's tennis) for last 20 years"
   ]
  },
  {
   "cell_type": "code",
   "execution_count": 13,
   "metadata": {},
   "outputs": [],
   "source": [
    "#Matches\n",
    "matches = pd.read_csv(\"../wta/matches.csv\", low_memory=False)"
   ]
  },
  {
   "cell_type": "code",
   "execution_count": 14,
   "metadata": {},
   "outputs": [],
   "source": [
    "#Get all the players\n",
    "players = pd.read_csv(\"../wta/players.csv\", sep=',', encoding='latin-1')"
   ]
  },
  {
   "cell_type": "code",
   "execution_count": 15,
   "metadata": {},
   "outputs": [],
   "source": [
    "#Get all the qualifying matches\n",
    "qualifying_matches = pd.read_csv(\"../wta/qualifying_matches.csv\", low_memory=False)"
   ]
  },
  {
   "cell_type": "code",
   "execution_count": 16,
   "metadata": {},
   "outputs": [],
   "source": [
    "#Get all the Rankings\n",
    "rankings = pd.read_csv(\"../wta/rankings.csv\")"
   ]
  },
  {
   "cell_type": "markdown",
   "metadata": {},
   "source": [
    "#### Enrich the matches data"
   ]
  },
  {
   "cell_type": "code",
   "execution_count": 17,
   "metadata": {},
   "outputs": [],
   "source": [
    "#convert the player ID to an integer\n",
    "matches['loser_id'] = matches['loser_id'].apply( lambda x: int(x))\n",
    "matches['winner_id'] = matches['winner_id'].apply( lambda x: int(x))\n",
    "\n",
    "#here, we are changing all of the N/A loser and winner ages to 0\n",
    "matches['loser_age'] = matches['loser_age'].fillna(0)\n",
    "matches['winner_age'] = matches['winner_age'].fillna(0)\n",
    "\n",
    "#here, we are converting the loser and winner ages to integers\n",
    "matches['loser_age'] = matches['loser_age'].apply( lambda x: int(x))\n",
    "matches['year'] = matches['tourney_date'].apply( lambda x: str(x)[:4])\n",
    "\n"
   ]
  },
  {
   "cell_type": "code",
   "execution_count": 18,
   "metadata": {},
   "outputs": [],
   "source": [
    "def ifTourneytPlayed(year, tourney):\n",
    "    \n",
    "    ''' Verify if a tournanment was played in that year'''\n",
    "    \n",
    "    logger.info(\"ifTourneyPlayed : Year >> %s touneyName >%s\" % ( year, tourney) )\n",
    "    match_arr = (matches[ ( matches['year'] == year) & ( matches['tourney_name'] == tourney)]) \n",
    "    if (len (match_arr) > 0):\n",
    "        logger.info( \"Yes, the tournament >>%s was held in year >%s \" %( tourney,  year) )\n",
    "    else:\n",
    "        logger.info( \"Sorry, the tournament >>%s was  NOT held in year >%s\" %(  tourney, year) )\n",
    "    \n",
    "\n",
    "    "
   ]
  },
  {
   "cell_type": "code",
   "execution_count": 19,
   "metadata": {},
   "outputs": [],
   "source": [
    "def playerCheck(player, year, tourney):\n",
    "    logger.info(\"\\n playerCheck >>  player=%s, year %s tourney %s\" %( player1 ,  year , tourney) )\n",
    "\n",
    "    #check if this tournament was held in that year ?\n",
    "    ifTourneytPlayed(year, tourney)\n",
    "    \n",
    "    #check if player(s) played this tournament\n",
    "    player_arr = matches[ (( matches['winner_name'] == player ) |  ( matches['loser_name'] == player) ) & ( matches['tourney_name'] == tourney) & ( matches ['year'] == year) ]  \n",
    "\n",
    "    if (len (player_arr)>0):\n",
    "        logger.info (\"\\n Yes, the player %s played the tournament %s\" % (player, tourney))\n",
    "    else:\n",
    "        logger.info (\"\\n Sorry, the player %s DID NOT Play the tournament %s\" %(player, tourney))\n",
    "        \n",
    "\n",
    "    "
   ]
  },
  {
   "cell_type": "code",
   "execution_count": 20,
   "metadata": {},
   "outputs": [],
   "source": [
    "def findWinner(player1, player2, tourney, year):\n",
    "    logging.info(\"findWinner between %s and %s in tournament %s in year %s\" %( player1, player2, tourney,  year) )\n",
    "    "
   ]
  },
  {
   "cell_type": "code",
   "execution_count": 21,
   "metadata": {},
   "outputs": [
    {
     "name": "stdout",
     "output_type": "stream",
     "text": [
      "2020-04-12 10:10:04,905 | INFO : \n",
      " playerCheck >>  player=Roger Federer, year 2005 tourney Wimbledon\n",
      "2020-04-12 10:10:04,906 | INFO : ifTourneyPlayed : Year >> 2005 touneyName >Wimbledon\n",
      "2020-04-12 10:10:04,954 | INFO : Yes, the tournament >>Wimbledon was held in year >2005 \n",
      "2020-04-12 10:10:04,966 | INFO : \n",
      " Sorry, the player Roger Federer DID NOT Play the tournament Wimbledon\n",
      "2020-04-12 10:10:04,966 | INFO : \n",
      " playerCheck >>  player=Roger Federer, year 2005 tourney Wimbledon\n",
      "2020-04-12 10:10:04,967 | INFO : ifTourneyPlayed : Year >> 2005 touneyName >Wimbledon\n",
      "2020-04-12 10:10:04,974 | INFO : Yes, the tournament >>Wimbledon was held in year >2005 \n",
      "2020-04-12 10:10:04,986 | INFO : \n",
      " Yes, the player Serena Williams played the tournament Wimbledon\n",
      "2020-04-12 10:10:04,986 | INFO : findWinner between Roger Federer and Serena Williams in tournament Wimbledon in year 2005\n"
     ]
    }
   ],
   "source": [
    "#objective\n",
    "#To print the winner/loser for each mach\n",
    "\n",
    "#Input  ?\n",
    "#Names of the two players\n",
    "#Year\n",
    "#tournament Name\n",
    "\n",
    "#Example question - in 2012, in wimbledon, Nadal vs Dokovich - who won ?\n",
    "\n",
    "#First: Did both Nadal and \n",
    "\n",
    "# player1 = input(\"Enter the name of Player 1: \")\n",
    "# player2 = input(\"Enter the name of Player 2: \")\n",
    "# year = input(\"Enter the year of the match: \")\n",
    "# tourney = input(\"Enter in the name of the tournament. If you don't know the name of the tournament, type in 0: \")\n",
    "\n",
    "player1= 'Roger Federer'\n",
    "player2 = 'Serena Williams'\n",
    "year = '2005'\n",
    "tourney = 'Wimbledon'\n",
    "# logger.info(\"\\n playerCheck >>  player=%s, year %s tourney %s\" %( player1 ,  year , tourney) )\n",
    "\n",
    "playerCheck(player1, year, tourney)\n",
    "playerCheck(player2, year, tourney)\n",
    "findWinner( player1, player2, tourney, year )\n",
    "\n",
    "\n",
    "\n",
    "# ifTourneytPlayed(year, tourney)   \n",
    "    "
   ]
  },
  {
   "cell_type": "code",
   "execution_count": null,
   "metadata": {},
   "outputs": [],
   "source": []
  }
 ],
 "metadata": {
  "kernelspec": {
   "display_name": "Python 3",
   "language": "python",
   "name": "python3"
  },
  "language_info": {
   "codemirror_mode": {
    "name": "ipython",
    "version": 3
   },
   "file_extension": ".py",
   "mimetype": "text/x-python",
   "name": "python",
   "nbconvert_exporter": "python",
   "pygments_lexer": "ipython3",
   "version": "3.7.3"
  }
 },
 "nbformat": 4,
 "nbformat_minor": 2
}
