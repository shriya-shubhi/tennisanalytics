{
 "cells": [
  {
   "cell_type": "markdown",
   "metadata": {},
   "source": [
    "### This is a program to identify a winner / loser in a tournament in Women's Tennis for all Grand Slams"
   ]
  },
  {
   "cell_type": "markdown",
   "metadata": {},
   "source": [
    "#### Import all the libraries"
   ]
  },
  {
   "cell_type": "code",
   "execution_count": null,
   "metadata": {},
   "outputs": [],
   "source": [
    "import pandas as pd\n",
    "import logging\n",
    "import sys\n",
    "from importlib import reload\n",
    "import matplotlib as plt\n",
    "import datetime"
   ]
  },
  {
   "cell_type": "code",
   "execution_count": null,
   "metadata": {},
   "outputs": [],
   "source": [
    "logger = logging.getLogger()\n",
    "\n",
    "logging.basicConfig(format=' %(levelname)s : %(message)s',\n",
    "                     level=logging.INFO, stream=sys.stdout)\n",
    "reload(logging)"
   ]
  },
  {
   "cell_type": "code",
   "execution_count": null,
   "metadata": {},
   "outputs": [],
   "source": [
    "cols_of_interest = [ 'year', 'best_of', 'loser_age', 'winner_age', \n",
    "                    'draw_size', 'loser_id','loser_ioc', 'loser_name',\n",
    "                    'loser_rank', 'winner_id', 'winner_name',\n",
    "                    'winner_ioc','winner_rank','tourney_id', \n",
    "                    'tourney_name','tourney_date', 'score']"
   ]
  },
  {
   "cell_type": "markdown",
   "metadata": {},
   "source": [
    "#### Read data from WTA ( Women's tennis) for last 20 years"
   ]
  },
  {
   "cell_type": "code",
   "execution_count": null,
   "metadata": {},
   "outputs": [],
   "source": [
    "#Matches\n",
    "matches = pd.read_csv(\"../wta/matches.csv\", low_memory=False)"
   ]
  },
  {
   "cell_type": "code",
   "execution_count": null,
   "metadata": {},
   "outputs": [],
   "source": [
    "#Get all the players\n",
    "players = pd.read_csv(\"../wta/players.csv\", sep=',', encoding='latin-1')\n",
    "players.head(n=10)"
   ]
  },
  {
   "cell_type": "code",
   "execution_count": null,
   "metadata": {},
   "outputs": [],
   "source": [
    "#Get all the qualifying matches\n",
    "qualifying_matches = pd.read_csv(\"../wta/qualifying_matches.csv\", low_memory=False)"
   ]
  },
  {
   "cell_type": "code",
   "execution_count": null,
   "metadata": {},
   "outputs": [],
   "source": [
    "#Get all the Rankings\n",
    "rankings = pd.read_csv(\"../wta/rankings.csv\")"
   ]
  },
  {
   "cell_type": "markdown",
   "metadata": {},
   "source": [
    "#### Enrich the matches data"
   ]
  },
  {
   "cell_type": "code",
   "execution_count": null,
   "metadata": {},
   "outputs": [],
   "source": [
    "#convert the player ID to an integer\n",
    "matches['loser_id'] = matches['loser_id'].apply( lambda x: int(x))\n",
    "matches['winner_id'] = matches['winner_id'].apply( lambda x: int(x))\n",
    "\n",
    "#here, we are changing all of the N/A loser and winner ages to 0\n",
    "matches['loser_age'] = matches['loser_age'].fillna(0)\n",
    "matches['winner_age'] = matches['winner_age'].fillna(0)\n",
    "\n",
    "#here, we are converting the loser and winner ages to integers\n",
    "matches['loser_age'] = matches['loser_age'].apply( lambda x: int(x))\n",
    "matches['winner_age'] = matches['winner_age'].apply( lambda x: int(x))\n",
    "matches['year'] = matches['tourney_date'].apply( lambda x: str(x)[:4])\n",
    "\n"
   ]
  },
  {
   "cell_type": "markdown",
   "metadata": {},
   "source": [
    "# Features"
   ]
  },
  {
   "cell_type": "markdown",
   "metadata": {},
   "source": [
    "1. number of matches the player has won against the other mention\n",
    "\n",
    "2. number of matches the player has LOST against the other player\n",
    "\n",
    "3. The number of matches the player has won in the past year from the date of the search\n",
    "\n",
    "4. The surface of the court\n",
    "    - Can figure out which surface the player is best at by finding the number of matches \n",
    "    the player has won on each surface in the past year from the date of the search \n",
    "5. The age of the player - (older players are prone to have deteriorating play level, health, and stamina, which means\n",
    "    they are more likely to lose)\n",
    "\n"
   ]
  },
  {
   "cell_type": "code",
   "execution_count": null,
   "metadata": {},
   "outputs": [],
   "source": [
    "def findNextWinner ( matches, player1, player2  ):\n",
    "    player1_wins =  matches [( matches['winner_name'] == player1) & ( matches['loser_name'] == player2 )] \n",
    "    \n",
    "    curr_year = datetime.datetime.today()\n",
    "    prev_year = datetime.datetime.today() - datetime.timedelta(days= 365)\n",
    "    \n",
    "    player1_win_last_year =  player1_wins [player1_wins['year'] == prev_year] \n",
    "    player2_wins =  matches [( matches['winner_name'] == player2) & ( matches['loser_name'] == player1 )] \n",
    "    player2_wins_last_year = player2_wins [player2_wins['year']==  prev_year ] \n",
    "\n",
    "    player1_win_count = len(matches [( matches['winner_name'] == player1) & ( matches['loser_name'] == player2 )])\n",
    "    player1_win_last_year_count =   len( player1_wins [player1_wins['year'] == prev_year ] )\n",
    "    \n",
    "    player2_win_count = len(matches [( matches['winner_name'] == player2) & ( matches['loser_name'] == player1 )])\n",
    "    player2_win_last_year_count =  len(player2_wins [player2_wins['year']== prev_year])\n",
    "\n",
    "    logger.info(\" %s has won %s matches || %s has won %s matches\" % ( player1, player1_win_count, player2, player2_win_count) ) \n",
    "    \n",
    "    if (player1_win_count == 0 & player2_win_count == 0):\n",
    "        msg = \"Sorry, %s has not played with %s. So, we don't have enough information to predict winner\" % (player1, player2) \n",
    "        return player1, 0\n",
    "    \n",
    "    player1chance = int( 100* (player1_win_count)/(player1_win_count + player2_win_count))\n",
    "    \n",
    "    scores = matches [( matches['winner_name'] == player1) & ( matches['loser_name'] == player2 )]['score']\n",
    "#     logger.info(\"%s against %s: Scores: \\n %s\" %( player1, player2, scores ))\n",
    "    \n",
    "    logger.info(\" In last year, %s has won %s matches || %s has won %s matches\" % ( player1, player1_win_last_year_count, player2, player2_win_last_year_count) ) \n",
    "\n",
    "    last_year_wins = player1_win_last_year_count + player2_win_last_year_count\n",
    "    \n",
    "    if ( last_year_wins !=0 ):\n",
    "        player1chanceyear = int( ( (100 * player1_win_last_year_count) / (last_year_wins )) ) \n",
    "    else:\n",
    "        player1chanceyear = 0\n",
    "        logger.info(\"Sorry, the two players haven't played in past one year.\")\n",
    "        \n",
    "        if player1chanceyear == 0:\n",
    "            player1totalchance = player1chance\n",
    "            \n",
    "        else:\n",
    "            player1totalchance = (0.6 * player1chance) + (0.4 * player1chanceyear)\n",
    "    \n",
    "    logger.info(\"Based on this information, %s has a %s percent chance of winning the next match\" % (player1, player1totalchance))\n",
    "    return player1, player1totalchance\n"
   ]
  },
  {
   "cell_type": "code",
   "execution_count": null,
   "metadata": {},
   "outputs": [],
   "source": [
    "def applyScoreWeights():\n",
    "    logger.info(\"apply score weights\")"
   ]
  },
  {
   "cell_type": "raw",
   "metadata": {},
   "source": [
    "1. find all of the matches that both have ever played(won and lost)\n",
    "2. so, there will be two arrays: one for each player\n",
    "3. run a for loop that will break when winner1 == winner2 or winner1 == loser 2 or loser1 == winner2 or loser2 == loser1\n",
    "4. if any of the above conditions is correct: set a variable common equal to that name\n",
    "5. then, find all of the matches that common has played against each of the aforementioned players\n",
    "6. find the probability each player has of winning against common\n",
    "7. find the greater probability and that's the winner!"
   ]
  },
  {
   "cell_type": "code",
   "execution_count": null,
   "metadata": {},
   "outputs": [],
   "source": [
    "def playerOpps(matches, player):\n",
    "    \n",
    "    player_win_matches =   matches[ ( matches['winner_name'] == player ) ]\n",
    "    player_lost_matches =  matches[(matches['loser_name'] == player) ]\n",
    "    l = player_win_matches[['loser_name']]\n",
    "    w = player_lost_matches[['winner_name']]\n",
    "    \n",
    "    player_opps = list(l.loser_name.unique()) + list(w.winner_name.unique() )\n",
    "    logger.info(\"%s has played a total of %d other players\" %( player, len(player_opps)))\n",
    "    return player_opps\n",
    "    "
   ]
  },
  {
   "cell_type": "code",
   "execution_count": null,
   "metadata": {},
   "outputs": [],
   "source": [
    "def commonPlayer(list1, list2):\n",
    "    list3 = [value for value in list1 if value in list2] \n",
    "    logger.info(\" There are %s common players.\" %( len(list3)))\n",
    "    return set(list3)\n",
    "    "
   ]
  },
  {
   "cell_type": "code",
   "execution_count": null,
   "metadata": {},
   "outputs": [],
   "source": [
    "def calculateChancesEachPlayer(common_players, player1, player2 ):\n",
    "    common_player_chances = {}\n",
    "    error_cnt = 0\n",
    "    success_cnt = 0\n",
    "    common_count = 0\n",
    "    for common_player in common_players:\n",
    "        common_count += 1\n",
    "        logger.info(\"****************************************\\n\")\n",
    "        logger.info(\"Common Player is: %s\" % ( common_player))\n",
    "        p1, c1 = findNextWinner(matches, player1, common_player)\n",
    "        p2, c2  = findNextWinner(matches, player2, common_player)\n",
    "        if (c1 == 0 & c2 ==0 ):\n",
    "            logger.error(\"Sorry unable to calcualte chances\")\n",
    "            error_cnt +=1\n",
    "            continue\n",
    "        else:\n",
    "            p1_chance = ( c1 / (c1 + c2)) * 100\n",
    "            success_cnt +=1\n",
    "        common_player_chances[common_player] = p1_chance\n",
    "\n",
    "    common_player_chances\n",
    "    player_chances = []\n",
    "\n",
    "    total_chances = 0\n",
    "    for k, v in common_player_chances.items():\n",
    "        total_chances = total_chances + int(v)\n",
    "\n",
    "    player1_chance = int( total_chances/len(common_player_chances))  \n",
    "    return player1_chance\n",
    "\n"
   ]
  },
  {
   "cell_type": "markdown",
   "metadata": {},
   "source": [
    "#### Identify the Players"
   ]
  },
  {
   "cell_type": "code",
   "execution_count": null,
   "metadata": {},
   "outputs": [],
   "source": [
    "player2 = \"Serena Williams\"\n",
    "player1 = \"Monica Puig\""
   ]
  },
  {
   "cell_type": "markdown",
   "metadata": {},
   "source": [
    "#### Invoke different Functions to find the chances"
   ]
  },
  {
   "cell_type": "code",
   "execution_count": null,
   "metadata": {},
   "outputs": [],
   "source": [
    "player1_opps = playerOpps(matches, player1)\n",
    "player2_opps = playerOpps(matches, player2)\n",
    "logger.info(\"Player 1  opponents: %s\" % ( len(player1_opps)) ) \n",
    "common_players = commonPlayer(player1_opps, player2_opps)\n",
    "player1chance = calculateChancesEachPlayer(common_players, player1, player2)\n",
    "logger.info(\"Player1 chance >> %s\", player1chance)\n"
   ]
  },
  {
   "cell_type": "markdown",
   "metadata": {},
   "source": [
    "Goals for Next week ( week of May 2nd )\n",
    "1. Fix the unique list of common players\n",
    "2. Work on returning the percentage for each player\n",
    "3. Weightage for scores"
   ]
  },
  {
   "cell_type": "code",
   "execution_count": null,
   "metadata": {},
   "outputs": [],
   "source": [
    "# player_chances = []\n",
    "# total_chances = 0\n",
    "# for k, v in common_player_chances.items():\n",
    "#     total_chances = total_chances + int(v)\n",
    "# int( total_chances/len(common_player_chances))  "
   ]
  },
  {
   "cell_type": "code",
   "execution_count": null,
   "metadata": {},
   "outputs": [],
   "source": [
    "#One Player perspective\n",
    "features =  ['date', '# of Matches Won', '# of Matches Lost', \"year\", 'Surface Type', 'age', 'Scores' ]\n",
    "\n",
    "#\n",
    "featuresToWeights = {\n",
    "            \"WinCounts\" : 60,\n",
    "            \"LastYear\" : 40,\n",
    "            }\n",
    "\n",
    "\n"
   ]
  },
  {
   "cell_type": "markdown",
   "metadata": {},
   "source": [
    "### Data visualization"
   ]
  },
  {
   "cell_type": "markdown",
   "metadata": {},
   "source": [
    "We will visualize some of the data - eg, who has won most of the grand slams, who is second etc "
   ]
  },
  {
   "cell_type": "code",
   "execution_count": null,
   "metadata": {},
   "outputs": [],
   "source": [
    "matches.head()"
   ]
  },
  {
   "cell_type": "code",
   "execution_count": null,
   "metadata": {},
   "outputs": [],
   "source": [
    "curr_year = datetime.datetime.today()\n",
    "prev_year = datetime.datetime.today() - datetime.timedelta(days= 365)\n",
    "\n",
    "prev_year.year\n"
   ]
  }
 ],
 "metadata": {
  "kernelspec": {
   "display_name": "Python 3",
   "language": "python",
   "name": "python3"
  },
  "language_info": {
   "codemirror_mode": {
    "name": "ipython",
    "version": 3
   },
   "file_extension": ".py",
   "mimetype": "text/x-python",
   "name": "python",
   "nbconvert_exporter": "python",
   "pygments_lexer": "ipython3",
   "version": "3.7.3"
  }
 },
 "nbformat": 4,
 "nbformat_minor": 2
}
