{
 "cells": [
  {
   "cell_type": "markdown",
   "metadata": {},
   "source": [
    "### This is a program to identify a winner / loser in a tournament in Women's Tennis for all Grand Slams"
   ]
  },
  {
   "cell_type": "markdown",
   "metadata": {},
   "source": [
    "#### Import all the libraries"
   ]
  },
  {
   "cell_type": "code",
   "execution_count": 1,
   "metadata": {},
   "outputs": [],
   "source": [
    "import pandas as pd\n",
    "import logging\n",
    "import sys\n",
    "from importlib import reload\n",
    "import matplotlib as plt\n",
    "import datetime"
   ]
  },
  {
   "cell_type": "code",
   "execution_count": 2,
   "metadata": {},
   "outputs": [
    {
     "data": {
      "text/plain": [
       "<module 'logging' from '//anaconda3/lib/python3.7/logging/__init__.py'>"
      ]
     },
     "execution_count": 2,
     "metadata": {},
     "output_type": "execute_result"
    }
   ],
   "source": [
    "logger = logging.getLogger()\n",
    "\n",
    "logging.basicConfig(format=' %(levelname)s : %(message)s',\n",
    "                     level=logging.INFO, stream=sys.stdout)\n",
    "reload(logging)"
   ]
  },
  {
   "cell_type": "code",
   "execution_count": 3,
   "metadata": {},
   "outputs": [],
   "source": [
    "cols_of_interest = [ 'year', 'best_of', 'loser_age', 'winner_age', \n",
    "                    'draw_size', 'loser_id','loser_ioc', 'loser_name',\n",
    "                    'loser_rank', 'winner_id', 'winner_name',\n",
    "                    'winner_ioc','winner_rank','tourney_id', \n",
    "                    'tourney_name','tourney_date', 'score']"
   ]
  },
  {
   "cell_type": "markdown",
   "metadata": {},
   "source": [
    "#### Read data from WTA ( Women's tennis) for last 20 years"
   ]
  },
  {
   "cell_type": "code",
   "execution_count": 4,
   "metadata": {},
   "outputs": [],
   "source": [
    "#Matches\n",
    "matches = pd.read_csv(\"../wta/matches.csv\", low_memory=False)"
   ]
  },
  {
   "cell_type": "code",
   "execution_count": 5,
   "metadata": {},
   "outputs": [
    {
     "data": {
      "text/html": [
       "<div>\n",
       "<style scoped>\n",
       "    .dataframe tbody tr th:only-of-type {\n",
       "        vertical-align: middle;\n",
       "    }\n",
       "\n",
       "    .dataframe tbody tr th {\n",
       "        vertical-align: top;\n",
       "    }\n",
       "\n",
       "    .dataframe thead th {\n",
       "        text-align: right;\n",
       "    }\n",
       "</style>\n",
       "<table border=\"1\" class=\"dataframe\">\n",
       "  <thead>\n",
       "    <tr style=\"text-align: right;\">\n",
       "      <th></th>\n",
       "      <th>player_id</th>\n",
       "      <th>first_name</th>\n",
       "      <th>last_name</th>\n",
       "      <th>hand</th>\n",
       "      <th>birth_date</th>\n",
       "      <th>country_code</th>\n",
       "    </tr>\n",
       "  </thead>\n",
       "  <tbody>\n",
       "    <tr>\n",
       "      <th>0</th>\n",
       "      <td>200001</td>\n",
       "      <td>Martina</td>\n",
       "      <td>Hingis</td>\n",
       "      <td>R</td>\n",
       "      <td>19800930.0</td>\n",
       "      <td>SUI</td>\n",
       "    </tr>\n",
       "    <tr>\n",
       "      <th>1</th>\n",
       "      <td>200002</td>\n",
       "      <td>Mirjana</td>\n",
       "      <td>Lucic</td>\n",
       "      <td>R</td>\n",
       "      <td>19820309.0</td>\n",
       "      <td>CRO</td>\n",
       "    </tr>\n",
       "    <tr>\n",
       "      <th>2</th>\n",
       "      <td>200003</td>\n",
       "      <td>Justine</td>\n",
       "      <td>Henin</td>\n",
       "      <td>R</td>\n",
       "      <td>19820601.0</td>\n",
       "      <td>BEL</td>\n",
       "    </tr>\n",
       "    <tr>\n",
       "      <th>3</th>\n",
       "      <td>200004</td>\n",
       "      <td>Kerry Anne</td>\n",
       "      <td>Guse</td>\n",
       "      <td>R</td>\n",
       "      <td>19721204.0</td>\n",
       "      <td>AUS</td>\n",
       "    </tr>\n",
       "    <tr>\n",
       "      <th>4</th>\n",
       "      <td>200005</td>\n",
       "      <td>Jolene</td>\n",
       "      <td>Watanabe Giltz</td>\n",
       "      <td>R</td>\n",
       "      <td>19680831.0</td>\n",
       "      <td>USA</td>\n",
       "    </tr>\n",
       "    <tr>\n",
       "      <th>5</th>\n",
       "      <td>200006</td>\n",
       "      <td>Karina</td>\n",
       "      <td>Habsudova</td>\n",
       "      <td>R</td>\n",
       "      <td>19730802.0</td>\n",
       "      <td>SVK</td>\n",
       "    </tr>\n",
       "    <tr>\n",
       "      <th>6</th>\n",
       "      <td>200007</td>\n",
       "      <td>Silvija</td>\n",
       "      <td>Talaja</td>\n",
       "      <td>R</td>\n",
       "      <td>19780114.0</td>\n",
       "      <td>CRO</td>\n",
       "    </tr>\n",
       "    <tr>\n",
       "      <th>7</th>\n",
       "      <td>200008</td>\n",
       "      <td>Alicia</td>\n",
       "      <td>Molik</td>\n",
       "      <td>R</td>\n",
       "      <td>19810127.0</td>\n",
       "      <td>AUS</td>\n",
       "    </tr>\n",
       "    <tr>\n",
       "      <th>8</th>\n",
       "      <td>200009</td>\n",
       "      <td>Tamarine</td>\n",
       "      <td>Tanasugarn</td>\n",
       "      <td>R</td>\n",
       "      <td>19770524.0</td>\n",
       "      <td>THA</td>\n",
       "    </tr>\n",
       "    <tr>\n",
       "      <th>9</th>\n",
       "      <td>200010</td>\n",
       "      <td>Rita</td>\n",
       "      <td>Grande</td>\n",
       "      <td>R</td>\n",
       "      <td>19750323.0</td>\n",
       "      <td>ITA</td>\n",
       "    </tr>\n",
       "  </tbody>\n",
       "</table>\n",
       "</div>"
      ],
      "text/plain": [
       "   player_id  first_name       last_name hand  birth_date country_code\n",
       "0     200001     Martina          Hingis    R  19800930.0          SUI\n",
       "1     200002     Mirjana           Lucic    R  19820309.0          CRO\n",
       "2     200003     Justine           Henin    R  19820601.0          BEL\n",
       "3     200004  Kerry Anne            Guse    R  19721204.0          AUS\n",
       "4     200005      Jolene  Watanabe Giltz    R  19680831.0          USA\n",
       "5     200006      Karina       Habsudova    R  19730802.0          SVK\n",
       "6     200007     Silvija          Talaja    R  19780114.0          CRO\n",
       "7     200008      Alicia           Molik    R  19810127.0          AUS\n",
       "8     200009    Tamarine      Tanasugarn    R  19770524.0          THA\n",
       "9     200010        Rita          Grande    R  19750323.0          ITA"
      ]
     },
     "execution_count": 5,
     "metadata": {},
     "output_type": "execute_result"
    }
   ],
   "source": [
    "#Get all the players\n",
    "players = pd.read_csv(\"../wta/players.csv\", sep=',', encoding='latin-1')\n",
    "players.head(n=10)"
   ]
  },
  {
   "cell_type": "code",
   "execution_count": 6,
   "metadata": {},
   "outputs": [],
   "source": [
    "#Get all the qualifying matches\n",
    "qualifying_matches = pd.read_csv(\"../wta/qualifying_matches.csv\", low_memory=False)"
   ]
  },
  {
   "cell_type": "code",
   "execution_count": 7,
   "metadata": {},
   "outputs": [],
   "source": [
    "#Get all the Rankings\n",
    "rankings = pd.read_csv(\"../wta/rankings.csv\")"
   ]
  },
  {
   "cell_type": "markdown",
   "metadata": {},
   "source": [
    "#### Enrich the matches data"
   ]
  },
  {
   "cell_type": "code",
   "execution_count": 8,
   "metadata": {},
   "outputs": [],
   "source": [
    "#convert the player ID to an integer\n",
    "matches['loser_id'] = matches['loser_id'].apply( lambda x: int(x))\n",
    "matches['winner_id'] = matches['winner_id'].apply( lambda x: int(x))\n",
    "\n",
    "#here, we are changing all of the N/A loser and winner ages to 0\n",
    "matches['loser_age'] = matches['loser_age'].fillna(0)\n",
    "matches['winner_age'] = matches['winner_age'].fillna(0)\n",
    "\n",
    "#here, we are converting the loser and winner ages to integers\n",
    "matches['loser_age'] = matches['loser_age'].apply( lambda x: int(x))\n",
    "matches['winner_age'] = matches['winner_age'].apply( lambda x: int(x))\n",
    "matches['year'] = matches['tourney_date'].apply( lambda x: str(x)[:4])\n",
    "\n"
   ]
  },
  {
   "cell_type": "markdown",
   "metadata": {},
   "source": [
    "# Features"
   ]
  },
  {
   "cell_type": "markdown",
   "metadata": {},
   "source": [
    "1. number of matches the player has won against the other mention\n",
    "\n",
    "2. number of matches the player has LOST against the other player\n",
    "\n",
    "3. The number of matches the player has won in the past year from the date of the search\n",
    "\n",
    "4. The surface of the court\n",
    "    - Can figure out which surface the player is best at by finding the number of matches \n",
    "    the player has won on each surface in the past year from the date of the search \n",
    "5. The age of the player - (older players are prone to have deteriorating play level, health, and stamina, which means\n",
    "    they are more likely to lose)\n",
    "\n"
   ]
  },
  {
   "cell_type": "code",
   "execution_count": 9,
   "metadata": {},
   "outputs": [],
   "source": [
    "def findNextWinner ( matches, player1, player2  ):\n",
    "    player1_wins =  matches [( matches['winner_name'] == player1) & ( matches['loser_name'] == player2 )] \n",
    "    \n",
    "    curr_year = datetime.datetime.today()\n",
    "    prev_year = datetime.datetime.today() - datetime.timedelta(days= 365)\n",
    "    \n",
    "    player1_win_last_year =  player1_wins [player1_wins['year'] == prev_year] \n",
    "    player2_wins =  matches [( matches['winner_name'] == player2) & ( matches['loser_name'] == player1 )] \n",
    "    player2_wins_last_year = player2_wins [player2_wins['year']==  prev_year ] \n",
    "\n",
    "    player1_win_count = len(matches [( matches['winner_name'] == player1) & ( matches['loser_name'] == player2 )])\n",
    "    player1_win_last_year_count =   len( player1_wins [player1_wins['year'] == prev_year ] )\n",
    "    \n",
    "    player2_win_count = len(matches [( matches['winner_name'] == player2) & ( matches['loser_name'] == player1 )])\n",
    "    player2_win_last_year_count =  len(player2_wins [player2_wins['year']== prev_year])\n",
    "\n",
    "    logger.info(\" %s has won %s matches || %s has won %s matches\" % ( player1, player1_win_count, player2, player2_win_count) ) \n",
    "    \n",
    "    if (player1_win_count == 0 & player2_win_count == 0):\n",
    "        msg = \"Sorry, %s has not played with %s. So, we don't have enough information to predict winner\" % (player1, player2) \n",
    "        return player1, 0\n",
    "    \n",
    "    player1chance = int( 100* (player1_win_count)/(player1_win_count + player2_win_count))\n",
    "    \n",
    "    scores = matches [( matches['winner_name'] == player1) & ( matches['loser_name'] == player2 )]['score']\n",
    "#     logger.info(\"%s against %s: Scores: \\n %s\" %( player1, player2, scores ))\n",
    "    \n",
    "    logger.info(\" In last year, %s has won %s matches || %s has won %s matches\" % ( player1, player1_win_last_year_count, player2, player2_win_last_year_count) ) \n",
    "\n",
    "    last_year_wins = player1_win_last_year_count + player2_win_last_year_count\n",
    "    \n",
    "    if ( last_year_wins !=0 ):\n",
    "        player1chanceyear = int( ( (100 * player1_win_last_year_count) / (last_year_wins )) ) \n",
    "    else:\n",
    "        player1chanceyear = 0\n",
    "        logger.info(\"Sorry, the two players haven't played in past one year.\")\n",
    "        \n",
    "        if player1chanceyear == 0:\n",
    "            player1totalchance = player1chance\n",
    "            \n",
    "        else:\n",
    "            player1totalchance = (0.6 * player1chance) + (0.4 * player1chanceyear)\n",
    "    \n",
    "    logger.info(\"Based on this information, %s has a %s percent chance of winning the next match\" % (player1, player1totalchance))\n",
    "    return player1, player1totalchance\n"
   ]
  },
  {
   "cell_type": "code",
   "execution_count": 10,
   "metadata": {},
   "outputs": [],
   "source": [
    "def applyScoreWeights():\n",
    "    logger.info(\"apply score weights\")"
   ]
  },
  {
   "cell_type": "raw",
   "metadata": {},
   "source": [
    "1. find all of the matches that both have ever played(won and lost)\n",
    "2. so, there will be two arrays: one for each player\n",
    "3. run a for loop that will break when winner1 == winner2 or winner1 == loser 2 or loser1 == winner2 or loser2 == loser1\n",
    "4. if any of the above conditions is correct: set a variable common equal to that name\n",
    "5. then, find all of the matches that common has played against each of the aforementioned players\n",
    "6. find the probability each player has of winning against common\n",
    "7. find the greater probability and that's the winner!"
   ]
  },
  {
   "cell_type": "code",
   "execution_count": 11,
   "metadata": {},
   "outputs": [],
   "source": [
    "def playerOpps(matches, player):\n",
    "    \n",
    "    player_win_matches =   matches[ ( matches['winner_name'] == player ) ]\n",
    "    player_lost_matches =  matches[(matches['loser_name'] == player) ]\n",
    "    l = player_win_matches[['loser_name']]\n",
    "    w = player_lost_matches[['winner_name']]\n",
    "    \n",
    "    player_opps = list(l.loser_name.unique()) + list(w.winner_name.unique() )\n",
    "    logger.info(\"%s has played a total of %d other players\" %( player, len(player_opps)))\n",
    "    return player_opps\n",
    "    "
   ]
  },
  {
   "cell_type": "code",
   "execution_count": 12,
   "metadata": {},
   "outputs": [],
   "source": [
    "def commonPlayer(list1, list2):\n",
    "    list3 = [value for value in list1 if value in list2] \n",
    "    logger.info(\" There are %s common players.\" %( len(list3)))\n",
    "    return list3 \n",
    "    "
   ]
  },
  {
   "cell_type": "code",
   "execution_count": 13,
   "metadata": {},
   "outputs": [],
   "source": [
    "player1 = \"Serena Williams\"\n",
    "player2 = \"Venus Williams\""
   ]
  },
  {
   "cell_type": "code",
   "execution_count": 14,
   "metadata": {},
   "outputs": [
    {
     "ename": "SyntaxError",
     "evalue": "unexpected EOF while parsing (<ipython-input-14-0a8b38d7713e>, line 14)",
     "output_type": "error",
     "traceback": [
      "\u001b[0;36m  File \u001b[0;32m\"<ipython-input-14-0a8b38d7713e>\"\u001b[0;36m, line \u001b[0;32m14\u001b[0m\n\u001b[0;31m    \u001b[0m\n\u001b[0m    ^\u001b[0m\n\u001b[0;31mSyntaxError\u001b[0m\u001b[0;31m:\u001b[0m unexpected EOF while parsing\n"
     ]
    }
   ],
   "source": [
    "player1_chance = findNextWinner(matches, player1, player2)\n",
    "logger.info(\"player1_chance >.\")\n",
    "if (player1_chance[1] == 0 ):\n",
    "#     lets a common player\n",
    "    player1_opps = playerOpps(matches, player1)\n",
    "    player2_opps = playerOpps(matches, player2)\n",
    "    common_players = commonPlayer(player1_opps, player2_opps)\n",
    "    for common_player in common_players:\n",
    "        logger.info(\"****************************************\\n\")\n",
    "        logger.info(\"Common Player is: %s\" % ( common_player))\n",
    "        player = findNextWinner(matches, player1, common_player)\n",
    "        data = findNextWinner(matches, player2, common_player)\n",
    "else:\n",
    "    "
   ]
  },
  {
   "cell_type": "code",
   "execution_count": null,
   "metadata": {},
   "outputs": [],
   "source": [
    "player1_opps = playerOpps(matches, player1)\n",
    "player2_opps = playerOpps(matches, player2)\n",
    "logger.info(\"Player 1  opponents: %s\" % ( len(player1_opps)) ) \n",
    "common_players = commonPlayer(player1_opps, player2_opps)\n"
   ]
  },
  {
   "cell_type": "code",
   "execution_count": null,
   "metadata": {},
   "outputs": [],
   "source": [
    "player2 = \"Martina Hingis\"\n",
    "player1 = \"Serena Williams\"\n",
    "for common_player in common_players:\n",
    "    logger.info(\"****************************************\\n\")\n",
    "    logger.info(\"Common Player is: %s\" % ( common_player))\n",
    "    player = findNextWinner(matches, player1, common_player)\n",
    "    data = findNextWinner(matches, player2, common_player)\n",
    "\n",
    "\n"
   ]
  },
  {
   "cell_type": "code",
   "execution_count": null,
   "metadata": {},
   "outputs": [],
   "source": [
    "player2 = \"Martina Hingis\"\n",
    "player1 = \"Serena Williams\"\n",
    "data = findNextWinner(matches, player1, player2)\n",
    "logger.info(\"data >>> %s\", data )\n"
   ]
  },
  {
   "cell_type": "code",
   "execution_count": null,
   "metadata": {},
   "outputs": [],
   "source": [
    "cols_of_interest = [ 'year', 'best_of', 'loser_age', 'winner_age', \n",
    "                    'draw_size',  'loser_name',\n",
    "                    'loser_rank', 'winner_id', 'winner_name',\n",
    "                    'winner_ioc','winner_rank','tourney_id', \n",
    "                    'tourney_name','tourney_date', 'score']\n",
    "\n",
    "player1 = 'Serena Williams'\n",
    "player2 = 'Maria Sharapova'\n",
    "match_stats = matches[ ( (( matches['winner_name'] == player1) | \n",
    "           ( matches['loser_name'] == player1) ) &\n",
    "          ( ( matches['loser_name'] == player2)  |\n",
    "          ( matches['winner_name'] == player2) ))][cols_of_interest]\n"
   ]
  },
  {
   "cell_type": "code",
   "execution_count": null,
   "metadata": {},
   "outputs": [],
   "source": [
    "#One Player perspective\n",
    "features =  ['date', '# of Matches Won', '# of Matches Lost', \"year\", 'Surface Type', 'age', 'Scores' ]\n",
    "\n",
    "#\n",
    "featuresToWeights = {\n",
    "            \"WinCounts\" : 60,\n",
    "            \"LastYear\" : 40,\n",
    "            }\n",
    "\n",
    "\n"
   ]
  },
  {
   "cell_type": "markdown",
   "metadata": {},
   "source": [
    "### Data visualization"
   ]
  },
  {
   "cell_type": "markdown",
   "metadata": {},
   "source": [
    "We will visualize some of the data - eg, who has won most of the grand slams, who is second etc "
   ]
  },
  {
   "cell_type": "code",
   "execution_count": null,
   "metadata": {},
   "outputs": [],
   "source": [
    "matches.head()"
   ]
  },
  {
   "cell_type": "code",
   "execution_count": null,
   "metadata": {},
   "outputs": [],
   "source": [
    "curr_year = datetime.datetime.today()\n",
    "prev_year = datetime.datetime.today() - datetime.timedelta(days= 365)\n",
    "\n",
    "prev_year.year\n"
   ]
  }
 ],
 "metadata": {
  "kernelspec": {
   "display_name": "Python 3",
   "language": "python",
   "name": "python3"
  },
  "language_info": {
   "codemirror_mode": {
    "name": "ipython",
    "version": 3
   },
   "file_extension": ".py",
   "mimetype": "text/x-python",
   "name": "python",
   "nbconvert_exporter": "python",
   "pygments_lexer": "ipython3",
   "version": "3.7.3"
  }
 },
 "nbformat": 4,
 "nbformat_minor": 2
}
